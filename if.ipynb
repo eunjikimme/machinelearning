{
 "cells": [
  {
   "cell_type": "markdown",
   "metadata": {},
   "source": [
    "## Extract text from doc"
   ]
  },
  {
   "cell_type": "code",
   "execution_count": 1,
   "metadata": {},
   "outputs": [],
   "source": [
    "path = \"/Users/eunji/Desktop/rename/nonadia.docx\""
   ]
  },
  {
   "cell_type": "markdown",
   "metadata": {},
   "source": [
    "## 1. using textract"
   ]
  },
  {
   "cell_type": "code",
   "execution_count": 7,
   "metadata": {},
   "outputs": [
    {
     "name": "stdout",
     "output_type": "stream",
     "text": [
      "Efficient and % = Accurate Nonadiabatic accurately Molecular Dynamics with Spin-Flip TDDFT\n",
      "\n",
      "We propose an efficient and accurate nonadiabatic molecular dynamics (NAMD) method using spin-flip time-depe\n"
     ]
    }
   ],
   "source": [
    "import textract\n",
    "text = textract.process(path,language='eng').decode('utf-8')\n",
    "print(text[:200])"
   ]
  },
  {
   "cell_type": "markdown",
   "metadata": {},
   "source": [
    "## 2. Select words"
   ]
  },
  {
   "cell_type": "code",
   "execution_count": 3,
   "metadata": {},
   "outputs": [
    {
     "name": "stdout",
     "output_type": "stream",
     "text": [
      "['Efficient', 'and', '%', '=', 'Accurate', 'Nonadiabatic', 'accurately', 'Molecular', 'Dynamics', 'with', 'Spin-Flip', 'TDDFT', 'We', 'propose', 'an', 'efficient', 'and', 'accurate', 'nonadiabatic', 'molecular']\n",
      "=====Convert to lowercase=====\n",
      "['efficient', 'and', '%', '=', 'accurate', 'nonadiabatic', 'accurately', 'molecular', 'dynamics', 'with', 'spin-flip', 'tddft', 'we', 'propose', 'an', 'efficient', 'and', 'accurate', 'nonadiabatic', 'molecular']\n",
      "=====Remove punctuations=====\n",
      "['efficient', 'and', '', '', 'accurate', 'nonadiabatic', 'accurately', 'molecular', 'dynamics', 'with', 'spinflip', 'tddft', 'we', 'propose', 'an', 'efficient', 'and', 'accurate', 'nonadiabatic', 'molecular']\n",
      "=====Keep alphabetic=====\n",
      "['efficient', 'and', 'accurate', 'nonadiabatic', 'accurately', 'molecular', 'dynamics', 'with', 'spinflip', 'tddft', 'we', 'propose', 'an', 'efficient', 'and', 'accurate', 'nonadiabatic', 'molecular', 'dynamics', 'namd']\n",
      "=====Remove 'English' stopwords=====\n",
      "['efficient', 'accurate', 'nonadiabatic', 'accurately', 'molecular', 'dynamics', 'spinflip', 'tddft', 'propose', 'efficient', 'accurate', 'nonadiabatic', 'molecular', 'dynamics', 'namd', 'method', 'using', 'spinflip', 'timedependent', 'density']\n"
     ]
    }
   ],
   "source": [
    "import re\n",
    "import string\n",
    "from nltk.tokenize import word_tokenize\n",
    "from nltk.corpus import stopwords\n",
    "from nltk.stem.porter import PorterStemmer\n",
    "words = word_tokenize(text)\n",
    "print(words[:20])\n",
    "#convert to lower case\n",
    "tokens = [w.lower() for w in words] \n",
    "print(\"=====Convert to lowercase=====\")\n",
    "print(tokens[:20])\n",
    "#Remove functuations\n",
    "re_punc = re.compile('[%s]' % re.escape(string.punctuation))\n",
    "stripped = [re_punc.sub('',w) for w in tokens]\n",
    "print(\"=====Remove punctuations=====\")\n",
    "print(stripped[:20])\n",
    "#Remove renaming tokens that are not alphabetic\n",
    "words = [word for word in stripped if word.isalpha()]\n",
    "print(\"=====Keep alphabetic=====\")\n",
    "print(words[:20])\n",
    "#Remove \"English\" stopwords\n",
    "stop_words = set(stopwords.words(\"English\"))\n",
    "words = [w for w in words if not w in stop_words]\n",
    "print(\"=====Remove 'English' stopwords=====\")\n",
    "print(words[:20])"
   ]
  },
  {
   "cell_type": "markdown",
   "metadata": {},
   "source": [
    "## Feature extraction"
   ]
  },
  {
   "cell_type": "code",
   "execution_count": 9,
   "metadata": {},
   "outputs": [
    {
     "name": "stdout",
     "output_type": "stream",
     "text": [
      "{'efficient': 423, 'accurate': 10, 'nonadiabatic': 885, 'accurately': 11, 'molecular': 835, 'dynamics': 412, 'spinflip': 1273, 'tddft': 1358, 'propose': 1068, 'namd': 865, 'method': 816, 'using': 1457, 'timedependent': 1388, 'density': 329, 'functional': 570, 'theory': 1371, 'sftddft': 1210, 'new': 879, 'state': 1281, 'tracking': 1399, 'algorithm': 28, 'calculating': 136, 'coupling': 293, 'terms': 1365, 'nact': 862, 'provides': 1071, 'potential': 1024, 'energy': 447, 'curves': 305, 'near': 871, 'conical': 242, 'intersection': 689, 'linearresponse': 756, 'test': 1366, 'simulation': 1232, 'geometrical': 580, 'changes': 160, 'time': 1385, 'typical': 1434, 'geometries': 581, 'around': 71, 'lifetime': 748, 'good': 590, 'agreement': 23, 'results': 1162, 'expensive': 490, 'ab': 0, 'initio': 674, 'multiple': 855, 'spawning': 1263, 'improved': 641, 'accuracy': 9, 'dramatically': 403, 'following': 536, 'phase': 985, 'alignments': 32, 'orbitals': 932, 'well': 1494, 'ordering': 935, 'improvement': 642, 'essential': 459, 'cases': 148, 'involving': 702, 'electronic': 432, 'states': 1282, 'addition': 16, 'computing': 231, 'used': 1455, 'truncated': 1419, 'laplace': 732, 'expansion': 487, 'technique': 1359, 'contraction': 266, 'scales': 1185, 'cube': 302, 'system': 1340, 'size': 1242, 'improvements': 643, 'make': 784, 'present': 1040, 'applicable': 57, 'much': 852, 'larger': 734, 'molecules': 837, 'performed': 975, 'cisstilbene': 180, 'photochemistry': 991, 'including': 648, 'nuclear': 898, 'degrees': 322, 'freedom': 560, 'first': 523, 'calculated': 135, 'branching': 130, 'ratio': 1095, 'lifetimes': 749, 'associated': 80, 'two': 1428, 'main': 780, 'pathways': 969, 'found': 550, 'timeresolved': 1390, 'fluorescence': 532, 'experiments': 493, 'mail': 779, 'cchoi': 155, 'knuackr': 723, 'introduction': 695, 'study': 1306, 'fate': 513, 'electronically': 433, 'excited': 482, 'systems': 1342, 'various': 1468, 'methods': 817, 'proposed': 1069, 'however': 623, 'complexity': 220, 'chemical': 168, 'increases': 655, 'photovoltaics': 1006, 'electronproton': 435, 'transfers': 1407, 'general': 577, 'biomolecules': 120, 'need': 873, 'onthefly': 921, 'simulations': 1233, 'growing': 603, 'studying': 1307, 'photochemical': 990, 'proper': 1066, 'descriptions': 344, 'ci': 172, 'motions': 846, 'strongly': 1298, 'coupled': 292, 'prime': 1045, 'vicinity': 1480, 'become': 102, 'degenerate': 320, 'makes': 785, 'even': 470, 'adiabatic': 18, 'structure': 1302, 'problem': 1050, 'difficult': 371, 'investigate': 697, 'transitions': 1409, 'among': 43, 'different': 369, 'complicates': 221, 'situations': 1240, 'generally': 578, 'multiconfigurational': 853, 'theories': 1370, 'natural': 869, 'choice': 170, 'although': 41, 'multireference': 857, 'usually': 1459, 'practical': 1025, 'due': 408, 'significantly': 1226, 'increased': 654, 'computational': 226, 'overhead': 950, 'especially': 458, 'large': 733, 'integrity': 682, 'issue': 709, 'active': 14, 'space': 1260, 'spaces': 1261, 'less': 743, 'fullvalence': 566, 'orbital': 931, 'order': 933, 'reduce': 1112, 'linear': 755, 'response': 1158, 'lr': 771, 'densityfunctional': 330, 'also': 39, 'lrtddft': 772, 'computationally': 227, 'inferior': 669, 'bond': 125, 'breakingmaking': 131, 'lowspin': 770, 'diradical': 378, 'examples': 478, 'intersections': 690, 'cis': 177, 'since': 1234, 'reference': 1117, 'singlet': 1237, 'ground': 601, 'discontinuity': 384, 'crossing': 300, 'point': 1015, 'based': 97, 'single': 1235, 'excitations': 481, 'therefore': 1373, 'important': 640, 'contributions': 271, 'double': 400, 'missing': 825, 'several': 1209, 'attempts': 86, 'include': 646, 'character': 163, 'suggested': 1321, 'formalism': 541, 'viable': 1477, 'way': 1492, 'characters': 164, 'singlereference': 1236, 'wavefunction': 1491, 'application': 58, 'called': 140, 'takes': 1350, 'lowest': 768, 'high': 616, 'spin': 1272, 'triplet': 1416, 'treated': 1413, 'electron': 431, 'flip': 530, 'improves': 644, 'regular': 1122, 'many': 789, 'ways': 1493, 'description': 343, 'better': 113, 'resolved': 1154, 'attempted': 85, 'harabuchi': 610, 'et': 461, 'capable': 141, 'treating': 1414, 'transition': 1408, 'pess': 983, 'points': 1016, 'explored': 497, 'showed': 1219, 'necessary': 872, 'correctly': 283, 'follow': 534, 'target': 1356, 'throughout': 1383, 'wide': 1499, 'swath': 1332, 'pes': 982, 'initial': 671, 'franckcondon': 558, 'region': 1120, 'easily': 415, 'confused': 241, 'one': 917, 'adopts': 20, 'relative': 1123, 'criteria': 296, 'fully': 567, 'quantum': 1082, 'mechanical': 807, 'version': 1472, 'still': 1293, 'classical': 186, 'needs': 875, 'incorporated': 651, 'strategy': 1294, 'atoms': 84, 'move': 847, 'classically': 187, 'suffers': 1320, 'lack': 731, 'decoherence': 314, 'case': 147, 'surface': 1328, 'hopping': 622, 'exact': 474, 'developed': 355, 'account': 8, 'tully': 1424, 'fewest': 517, 'switches': 1333, 'trajectory': 1401, 'tsh': 1423, 'popular': 1018, 'semiclassical': 1201, 'nuclei': 899, 'propagate': 1064, 'selected': 1198, 'compute': 228, 'probabilities': 1048, 'term': 1363, 'obtained': 908, 'analytic': 45, 'evaluation': 468, 'established': 460, 'yet': 1511, 'alternatively': 40, 'numerical': 903, 'timederivative': 1389, 'approximation': 64, 'successfully': 1318, 'utilized': 1460, 'fact': 504, 'available': 88, 'limited': 752, 'number': 901, 'program': 1061, 'packages': 954, 'timeconsuming': 1386, 'extended': 500, 'basis': 98, 'sets': 1207, 'problems': 1051, 'arise': 68, 'highly': 619, 'peaked': 970, 'hand': 608, 'approach': 60, 'typically': 1435, 'requires': 1149, 'wave': 1490, 'function': 569, 'overlaps': 952, 'bottleneck': 128, 'computation': 225, 'overlap': 951, 'manyelectron': 790, 'functions': 571, 'reported': 1139, 'making': 786, 'purpose': 1076, 'work': 1506, 'manifold': 787, 'combine': 208, 'fullyfledged': 568, 'within': 1503, 'local': 761, 'gaussian': 576, 'evaluations': 469, 'techniques': 1360, 'shall': 1212, 'far': 508, 'majority': 783, 'applications': 59, 'directed': 380, 'gas': 575, 'photoisomerization': 999, 'ethylene': 464, 'studied': 1304, 'produces': 1056, 'theoretically': 1369, 'expected': 489, 'experimental': 492, 'enables': 444, 'us': 1453, 'understand': 1443, 'detailed': 347, 'mechanism': 808, 'process': 1053, 'intramolecular': 691, 'vibrational': 1479, 'redistribution': 1111, 'ivr': 711, 'physical': 1008, 'factors': 506, 'ii': 633, 'theoretical': 1368, 'backgrounds': 95, 'total': 1397, 'hamiltonian': 607, 'written': 1509, 'kinetic': 721, 'operator': 924, 'respectively': 1157, 'positions': 1021, 'electrons': 437, 'denoted': 326, 'collectively': 200, 'nucleus': 900, 'motion': 845, 'continuous': 262, 'along': 37, 'unspecified': 1449, 'corresponding': 286, 'described': 342, 'orthonormal': 941, 'set': 1206, 'depend': 331, 'parametrically': 959, 'convenient': 273, 'eigenfunctions': 424, 'coefficient': 197, 'th': 1367, 'ansatz': 50, 'schrödinger': 1189, 'equation': 453, 'yields': 1514, 'evolution': 473, 'eigenvalue': 426, 'coefficients': 198, 'determined': 353, 'solving': 1258, 'differential': 370, 'probability': 1049, 'given': 585, 'step': 1288, 'demonstrated': 324, 'introducing': 694, 'subtime': 1315, 'smaller': 1248, 'modification': 833, 'integration': 681, 'interpolation': 687, 'obtain': 907, 'nacts': 863, 'needed': 874, 'adopt': 19, 'finite': 522, 'difference': 367, 'counts': 291, 'mth': 851, 'represented': 1143, 'slater': 1244, 'determinant': 349, 'formed': 545, 'spinflipping': 1274, 'occupied': 910, 'virtual': 1485, 'configuration': 236, 'comparisons': 217, 'connect': 243, 'solution': 1257, 'eigenvectors': 427, 'matrix': 798, 'ks': 730, 'energies': 446, 'specific': 1265, 'formulation': 549, 'depends': 336, 'tammdancoff': 1354, 'tammd': 1353, 'decouple': 316, 'resolve': 1153, 'instability': 676, 'reason': 1105, 'thus': 1384, 'consequently': 248, 'right': 1164, 'side': 1223, 'eq': 452, 'becomes': 103, 'calculation': 137, 'integrals': 680, 'summation': 1324, 'four': 552, 'indices': 667, 'constitutes': 254, 'significant': 1225, 'recently': 1108, 'plasser': 1012, 'al': 26, 'noticed': 895, 'spinorthogonalization': 1276, 'integral': 679, 'factorized': 505, 'parts': 964, 'alpha': 38, 'beta': 112, 'kohnsham': 725, 'mos': 843, 'avoid': 91, 'repeated': 1137, 'calculations': 138, 'precompute': 1027, 'determinants': 350, 'carrying': 146, 'usual': 1458, 'lu': 775, 'times': 1391, 'required': 1148, 'evaluate': 466, 'pairs': 955, 'scale': 1184, 'respect': 1155, 'denoting': 328, 'iii': 634, 'md': 801, 'background': 94, 'information': 670, 'geometric': 579, 'surfaces': 1330, 'intersect': 688, 'categorized': 151, 'three': 1379, 'types': 1433, 'symmetryrequired': 1337, 'form': 539, 'components': 222, 'irreducible': 704, 'representation': 1142, 'occur': 911, 'molecule': 836, 'keeps': 717, 'group': 602, 'symmetry': 1335, 'organic': 938, 'consider': 249, 'type': 1430, 'accidental': 6, 'symmetryallowed': 1336, 'dynamical': 411, 'met': 813, 'trajectories': 1400, 'black': 121, 'arrow': 75, 'illustrated': 635, 'figure': 518, 'blue': 122, 'red': 1109, 'represent': 1141, 'goes': 588, 'lower': 766, 'without': 1504, 'undergoes': 1441, 'nonadibatic': 887, 'remains': 1128, 'upper': 1452, 'take': 1348, 'possibility': 1022, 'dictated': 365, 'last': 736, 'samesymmetry': 1182, 'cross': 298, 'dashed': 311, 'curve': 304, 'may': 800, 'remain': 1126, 'depicted': 338, 'solid': 1255, 'undergo': 1440, 'uncommon': 1438, 'plays': 1013, 'key': 719, 'role': 1171, 'notational': 892, 'convenience': 272, 'hereafter': 615, 'call': 139, 'typei': 1431, 'typeii': 1432, 'determine': 352, 'assign': 78, 'consist': 252, 'determination': 351, 'mixing': 829, 'identification': 629, 'correct': 281, 'classification': 188, 'finally': 521, 'ongoing': 920, 'flow': 531, 'chart': 166, 'defined': 319, 'differences': 368, 'ethresh': 463, 'ev': 465, 'search': 1191, 'reaches': 1098, 'vectors': 1471, 'newly': 880, 'encountered': 445, 'saved': 1183, 'serve': 1205, 'summarized': 1323, 'approximate': 63, 'vector': 1470, 'current': 303, 'continuity': 261, 'eigenstates': 425, 'represents': 1145, 'difficulty': 373, 'arises': 69, 'absolute': 4, 'values': 1464, 'open': 923, 'shell': 1214, 'similar': 1227, 'long': 763, 'unstable': 1450, 'difficulties': 372, 'comes': 212, 'uncontrollable': 1439, 'sign': 1224, 'unsorted': 1448, 'phases': 986, 'preliminary': 1037, 'studies': 1305, 'reliability': 1124, 'aligning': 31, 'determining': 354, 'reorder': 1136, 'align': 30, 'mo': 830, 'previous': 1042, 'provision': 1072, 'achieved': 12, 'criterion': 297, 'involved': 700, 'element': 438, 'value': 1463, 'close': 192, 'unity': 1444, 'mixed': 828, 'would': 1507, 'depending': 335, 'degree': 321, 'renewal': 1133, 'structural': 1300, 'change': 159, 'occurs': 913, 'get': 584, 'contaminated': 258, 'unreliable': 1447, 'updated': 1451, 'introduced': 693, 'monitor': 839, 'contamination': 259, 'monitors': 840, 'validity': 1462, 'projecting': 1062, 'onto': 922, 'subspace': 1313, 'spans': 1262, 'mostly': 844, 'define': 318, 'deterioration': 348, 'additional': 17, 'denotes': 327, 'maximum': 799, 'elements': 439, 'measures': 805, 'orthogonality': 940, 'distinguishable': 389, 'obviously': 909, 'longer': 764, 'useful': 1456, 'subsequently': 1312, 'approaches': 61, 'possible': 1023, 'assigned': 79, 'almost': 36, 'zero': 1518, 'crosses': 299, 'nonadiabtic': 886, 'regardless': 1119, 'occurrence': 912, 'stage': 1278, 'computed': 229, 'implement': 636, 'efficiency': 422, 'compared': 215, 'considering': 251, 'part': 960, 'examine': 475, 'variation': 1466, 'involves': 701, 'list': 759, 'matrices': 797, 'fs': 563, 'row': 1175, 'column': 206, 'refer': 1116, 'later': 737, 'increasing': 656, 'boldface': 123, 'connecting': 245, 'index': 661, 'connections': 247, 'seen': 1196, 'provide': 1070, 'inconsistent': 650, 'clearly': 191, 'examining': 476, 'expectation': 488, 'arranged': 72, 'show': 1218, 'second': 1192, 'meaningful': 802, 'predicts': 1032, 'displayed': 388, 'indicate': 663, 'steps': 1289, 'shown': 1221, 'window': 1500, 'select': 1197, 'instant': 677, 'others': 944, 'ambiguity': 42, 'indicated': 664, 'third': 1377, 'rows': 1176, 'magnitudes': 777, 'connected': 244, 'either': 428, 'appears': 54, 'reasonable': 1106, 'connection': 246, 'turns': 1425, 'continue': 260, 'observations': 905, 'corresponds': 287, 'erroneous': 455, 'prediction': 1031, 'failure': 507, 'mentioned': 811, 'hangs': 609, 'prolonged': 1063, 'period': 976, 'renew': 1132, 'dictates': 366, 'similarly': 1228, 'renewed': 1134, 'recalculated': 1107, 'timedependence': 1387, 'showing': 1220, 'absence': 3, 'tle': 1394, 'implementations': 638, 'furthermore': 573, 'section': 1193, 'cost': 288, 'reduced': 1113, 'nevertheless': 878, 'precomputation': 1026, 'enormous': 448, 'repetitive': 1138, 'cofactors': 199, 'formula': 548, 'use': 1454, 'renormalized': 1135, 'systematic': 1341, 'introduce': 692, 'contracting': 265, 'speeded': 1269, 'truncating': 1420, 'orderofmagnitude': 936, 'parameter': 958, 'note': 893, 'multiply': 856, 'bookkeeping': 127, 'magnitude': 776, 'indicates': 665, 'smallness': 1249, 'bearing': 101, 'rearrange': 1103, 'columns': 207, 'diagonal': 363, 'constructions': 257, 'help': 613, 'write': 1508, 'product': 1057, 'series': 1204, 'explicit': 496, 'expressions': 499, 'lowestorder': 769, 'listed': 760, 'table': 1344, 'precomputing': 1029, 'products': 1058, 'taken': 1349, 'small': 1247, 'truncation': 1421, 'gives': 586, 'enough': 449, 'keep': 715, 'bracketed': 129, 'next': 882, 'truncate': 1418, 'drop': 407, 'higher': 617, 'result': 1160, 'approximations': 65, 'conventional': 274, 'decomposition': 315, 'earlier': 413, 'reducing': 1114, 'summations': 1325, 'precomputed': 1028, 'carry': 145, 'formally': 542, 'simple': 1229, 'rearrangement': 1104, 'contract': 263, 'follows': 537, 'contracted': 264, 'quantities': 1081, 'performance': 973, 'five': 526, 'chosen': 171, 'error': 456, 'nth': 897, 'designating': 345, 'average': 89, 'errors': 457, 'evaluated': 467, 'measuring': 806, 'drawn': 405, 'full': 565, 'dotdashed': 396, 'overall': 945, 'former': 546, 'latter': 738, 'iv': 710, 'discussions': 387, 'vs': 1489, 'comparatively': 214, 'cc': 154, 'cn': 195, 'torsional': 1396, 'angles': 47, 'investigated': 698, 'correspond': 285, 'lrtddfttammd': 773, 'sftddfttammd': 1211, 'casscf': 150, 'presented': 1041, 'sake': 1181, 'simplicity': 1230, 'notation': 891, 'omitted': 916, 'exhibit': 484, 'cusps': 306, 'smoothly': 1250, 'implies': 639, 'distorted': 390, 'sharp': 1213, 'inclination': 645, 'extensively': 501, 'discrepancy': 385, 'shorter': 1216, 'ones': 918, 'explanations': 495, 'example': 477, 'barbatti': 96, 'argued': 67, 'conditions': 235, 'direct': 379, 'convergences': 276, 'superior': 1326, 'aspect': 77, 'vibration': 1478, 'followed': 535, 'twisting': 1427, 'elongated': 442, 'subsequent': 1311, 'pyramidal': 1078, 'py': 1077, 'carbon': 142, 'path': 966, 'confirmed': 239, 'closer': 193, 'angle': 46, 'grows': 604, 'reproduction': 1146, 'remarkable': 1129, 'considered': 250, 'doubly': 402, 'statistically': 1284, 'averaged': 90, 'fractions': 556, 'see': 1194, 'aims': 25, 'reliable': 1125, 'photoisomerizations': 1000, 'stilbene': 1292, 'known': 722, 'photoexcitation': 997, 'transstilbene': 1412, 'dhp': 357, 'minor': 823, 'byproducts': 134, 'room': 1172, 'temperature': 1361, 'remaining': 1127, 'vertically': 1475, 'bifurcates': 116, 'transdhp': 1404, 'isomerization': 708, 'channels': 162, 'decays': 313, 'cistrans': 182, 'channel': 161, 'forms': 547, 'cisdhp': 178, 'gradual': 593, 'central': 157, 'ps': 1074, 'raman': 1090, 'decay': 312, 'profile': 1060, 'fitted': 525, 'biexponential': 115, 'fast': 511, 'slow': 1246, 'attributed': 87, 'prior': 1047, 'substantially': 1314, 'twisted': 1426, 'reports': 1140, 'threedimensional': 1380, 'constrained': 255, 'scheme': 1188, 'dihedral': 374, 'torsion': 1395, 'unable': 1437, 'regions': 1121, 'electronradiationion': 436, 'serid': 1203, 'dou': 399, 'individual': 668, 'interesting': 685, 'phenomena': 987, 'dhptrans': 360, 'conversion': 277, 'reactions': 1100, 'observed': 906, 'dimensional': 376, 'steepest': 1286, 'descent': 340, 'directly': 382, 'flat': 527, 'contradict': 267, 'population': 1019, 'ππexcited': 1521, 'propagates': 1065, 'primarily': 1044, 'toward': 1398, 'leading': 740, 'partial': 961, 'lead': 739, 'formations': 544, 'noted': 894, 'able': 2, 'simulate': 1231, 'passing': 965, 'real': 1102, 'structures': 1303, 'ie': 631, 'according': 7, 'singly': 1238, 'exited': 486, 'beginning': 104, 'contribution': 270, 'focus': 533, 'analysis': 44, 'mainly': 781, 'bhhlyp': 114, 'hybrid': 624, 'independent': 659, 'nve': 904, 'configurations': 238, 'randomly': 1091, 'vertical': 1474, 'excitation': 480, 'snapshots': 1251, 'assumed': 81, 'initiate': 673, 'eventually': 471, 'conformations': 240, 'unlike': 1446, 'via': 1476, 'ensuring': 450, 'quantitative': 1080, 'ratios': 1096, 'trans': 1402, 'concerned': 232, 'consistent': 253, 'final': 520, 'appear': 52, 'overestimated': 948, 'unknown': 1445, 'nonradiative': 890, 'yield': 1512, 'predicted': 1030, 'quite': 1086, 'processes': 1054, 'eleven': 440, 'special': 1264, 'describe': 341, 'reaction': 1099, 'major': 782, 'internal': 686, 'coordinates': 280, 'vinyl': 1483, 'nonplanarity': 889, 'phenyl': 988, 'rings': 1167, 'proximity': 1073, 'photoreactions': 1004, 'figures': 519, 'ten': 1362, 'fc': 515, 'starting': 1280, 'cismin': 179, 'transmin': 1411, 'dhpmin': 359, 'optimized': 929, 'identical': 628, 'citransi': 183, 'citransii': 184, 'cidhp': 173, 'meci': 810, 'minimum': 821, 'ts': 1422, 'another': 49, 'ciinter': 174, 'inversepyramidal': 696, 'geometry': 582, 'denote': 325, 'emphasized': 443, 'static': 1283, 'actual': 15, 'runs': 1179, 'deviate': 356, 'guidance': 605, 'bifurcation': 117, 'visualize': 1487, 'preferences': 1034, 'residence': 1152, 'distribution': 391, 'rtd': 1177, 'histogram': 621, 'fractional': 555, 'spent': 1271, 'configurational': 237, 'bins': 119, 'specified': 1266, 'bin': 118, 'indexed': 662, 'center': 156, 'measure': 803, 'indicating': 666, 'preference': 1033, 'helps': 614, 'visualizing': 1488, 'constructing': 256, 'picture': 1009, 'selecting': 1199, 'particular': 962, 'interest': 684, 'appropriate': 62, 'freedoms': 561, 'commonly': 213, 'strong': 1297, 'thermal': 1374, 'transferred': 1406, 'leads': 741, 'preferred': 1036, 'explained': 494, 'delivered': 323, 'preferentially': 1035, 'though': 1378, 'thermodynamically': 1375, 'dark': 309, 'brown': 133, 'shows': 1222, 'favorable': 514, 'negligibly': 876, 'ring': 1165, 'intact': 678, 'somewhat': 1259, 'pathway': 968, 'exists': 485, 'facile': 503, 'interconversion': 683, 'increase': 653, 'stays': 1285, 'go': 587, 'back': 93, 'proceed': 1052, 'formation': 543, 'initially': 672, 'arrived': 73, 'seven': 1208, 'overcome': 946, 'oscillations': 943, 'redistributed': 1110, 'apart': 51, 'resulting': 1161, 'rarely': 1093, 'moves': 849, 'come': 211, 'timescale': 1392, 'stable': 1277, 'like': 750, 'contrast': 268, 'elapsed': 430, 'structurally': 1301, 'reach': 1097, 'synchronously': 1339, 'rotate': 1173, 'direction': 381, 'synchronized': 1338, 'dependencies': 333, 'particularly': 963, 'variety': 1467, 'dotted': 398, 'circle': 175, 'narrow': 867, 'ordered': 934, 'striking': 1296, 'selectively': 1200, 'twodimensional': 1429, 'marked': 792, 'dots': 397, 'assumption': 82, 'broad': 132, 'area': 66, 'early': 414, 'belong': 106, 'transcis': 1403, 'overestimates': 949, 'could': 290, 'ignorance': 632, 'radiative': 1088, 'drastic': 404, 'reduction': 1115, 'sudden': 1319, 'causes': 153, 'scf': 1186, 'convergence': 275, 'dhpcis': 358, 'slightly': 1245, 'elapse': 429, 'faster': 512, 'might': 818, 'great': 597, 'tails': 1347, 'range': 1092, 'timescales': 1393, 'populations': 1020, 'fraction': 554, 'converts': 278, 'contribute': 269, 'discuss': 386, 'shoulder': 1217, 'representing': 1144, 'clear': 190, 'combined': 209, 'cisstilbenes': 181, 'start': 1279, 'completes': 218, 'movement': 848, 'opposite': 926, 'seems': 1195, 'misleading': 824, 'indeed': 658, 'termination': 1364, 'agrees': 24, 'oscillates': 942, 'arriving': 74, 'flexibility': 528, 'spends': 1270, 'undergoing': 1442, 'entropic': 451, 'low': 765, 'rather': 1094, 'restricted': 1159, 'removes': 1130, 'quickly': 1085, 'conclusions': 234, 'combining': 210, 'overcoming': 947, 'limitations': 751, 'lrtdft': 774, 'costs': 289, 'effective': 420, 'robust': 1170, 'orders': 937, 'thereby': 1372, 'effectively': 421, 'removing': 1131, 'life': 747, 'successful': 1317, 'photoproduct': 1002, 'included': 647, 'threepossible': 1381, 'photoproducts': 1003, 'produce': 1055, 'experiment': 491, 'conclude': 233, 'allow': 35, 'perform': 972, 'acknowledgment': 13, 'indebted': 657, 'prof': 1059, 'mark': 791, 'gordon': 591, 'inspiring': 675, 'supported': 1327, 'edison': 417, 'education': 418, 'research': 1151, 'net': 877, 'national': 868, 'foundation': 551, 'korea': 726, 'nrf': 896, 'grant': 594, 'funded': 572, 'ministry': 822, 'science': 1190, 'ict': 626, 'future': 574, 'planning': 1011, 'depict': 337, 'situation': 1239, 'depicts': 339, 'algorithms': 29, 'identifying': 630, 'classifying': 189, 'fourstate': 553, 'colored': 204, 'respective': 1156, 'color': 203, 'threestate': 1382, 'colors': 205, 'discontinuities': 383, 'incorrect': 652, 'appeared': 53, 'corrected': 282, 'keeping': 716, 'plots': 1014, 'performances': 974, 'lowers': 767, 'whose': 1497, 'dash': 310, 'dot': 395, 'line': 754, 'length': 742, 'graphs': 596, 'schematic': 1187, 'diagram': 364, 'atom': 83, 'numbering': 902, 'except': 479, 'min': 819, 'subscript': 1310, 'optimization': 928, 'comparison': 216, 'doubleheaded': 401, 'oneway': 919, 'irreversible': 705, 'distributions': 392, 'versus': 1473, 'subtraction': 1316, 'paths': 967, 'must': 858, 'circles': 176, 'arrows': 76, 'yielded': 1513, 'tables': 1345, 'premultiplication': 1038, 'expr': 498, 'appendix': 55, 'references': 1118, 'bernardi': 110, 'olivucci': 915, 'robb': 1169, 'crossings': 301, 'chem': 167, 'soc': 1253, 'rev': 1163, 'yarkony': 1510, 'diabolical': 362, 'often': 914, 'misunderstood': 826, 'acc': 5, 'res': 1150, 'sobolewski': 1252, 'domcke': 394, 'dedonderlardeux': 317, 'jouvet': 713, 'excitedstate': 483, 'hydrogen': 625, 'detachment': 346, 'transfer': 1405, 'driven': 406, 'repulsive': 1147, 'paradigm': 957, 'aromatic': 70, 'phys': 1007, 'poli': 1017, 'harvey': 611, 'forbidden': 538, 'metal': 814, 'compounds': 223, 'ideas': 627, 'challenges': 158, 'levine': 746, 'martinez': 794, 'annu': 48, 'nanbu': 866, 'ishida': 707, 'nakamura': 864, 'perspectives': 980, 'mori': 842, 'kato': 714, 'dynamic': 410, 'correlation': 284, 'effect': 419, 'ringopening': 1166, 'cyclohexadiene': 307, 'lett': 744, 'mitric': 827, 'bonacickoutecky': 124, 'pittner': 1010, 'lischka': 758, 'ultrafast': 1436, 'radiationless': 1087, 'na': 861, 'sub': 1308, 'cluster': 194, 'doltsinis': 393, 'marx': 795, 'carparrinello': 144, 'granucci': 595, 'persico': 978, 'ruckenbauer': 1178, 'vazdar': 1469, 'eckertmaksić': 416, 'surfacehopping': 1329, 'newtonx': 881, 'photodynamics': 995, 'benchmark': 107, 'journal': 712, 'photobiology': 989, 'chemistry': 169, 'dallos': 308, 'shepard': 1215, 'mrci': 850, 'gradient': 592, 'valence': 1461, 'rydberg': 1180, 'formaldehyde': 540, 'mol': 834, 'szalay': 1343, 'level': 745, 'west': 1496, 'windus': 1501, 'methaniminium': 815, 'ormas': 939, 'incomplete': 649, 'tapavicza': 1355, 'tavernelli': 1357, 'rothlisberger': 1174, 'craig': 295, 'duncan': 409, 'prezhdo': 1043, 'electronnuclear': 434, 'werner': 1495, 'suzuki': 1331, 'dependent': 334, 'pyrazine': 1079, 'photoelectron': 996, 'spectra': 1267, 'photoswitching': 1005, 'benzylideneaniline': 109, 'ko': 724, 'quenneville': 1084, 'krylov': 729, 'sizeconsistent': 1243, 'bondbreaking': 126, 'equationofmotion': 454, 'model': 831, 'isegawa': 706, 'truhlar': 1417, 'alkenes': 33, 'carbonyl': 143, 'azabenzenes': 92, 'collinear': 201, 'noncollinear': 888, 'keipert': 718, 'zahariev': 1517, 'taketsugu': 1351, 'photocyclization': 993, 'mechanisms': 809, 'ππ': 1520, 'agostini': 22, 'abedi': 1, 'gross': 600, 'quantumclassical': 1083, 'independenttrajectory': 660, 'comput': 224, 'coe': 196, 'virshup': 1484, 'implementation': 637, 'molpro': 838, 'package': 953, 'couplings': 294, 'mai': 778, 'müller': 860, 'marquetand': 793, 'gonzález': 589, 'perturbational': 981, 'treatment': 1415, 'spinorbit': 1275, 'highlevel': 618, 'casida': 149, 'solids': 1256, 'structheochem': 1299, 'locally': 762, 'diabatic': 361, 'charge': 165, 'dimer': 377, 'cation': 152, 'oppel': 925, 'flexible': 529, 'perspective': 979, 'hirata': 620, 'headgordon': 612, 'advanced': 21, 'pan': 956, 'yu': 1516, 'stewart': 1291, 'algebraic': 27, 'computers': 230, 'mathematics': 796, 'bennun': 108, 'principles': 1046, 'viel': 1481, 'krawczyk': 728, 'manthe': 788, 'photoinduced': 998, 'ethene': 462, 'sixdimensional': 1241, 'investigation': 699, 'farmanara': 509, 'stert': 1290, 'radloff': 1089, 'fragmentation': 557, 'cl': 185, 'steinkellner': 1287, 'wick': 1498, 'wittmann': 1505, 'korn': 727, 'photodissociation': 994, 'femtosecond': 516, 'nm': 884, 'laser': 735, 'pulses': 1075, 'lippert': 757, 'ritze': 1168, 'mestdagh': 812, 'visticot': 1486, 'elhanine': 441, 'soep': 1254, 'prereactive': 1039, 'monoalkenes': 841, 'semiempirical': 1202, 'minezawa': 820, 'optimizing': 930, 'muszkat': 859, 'fischer': 524, 'wismonskiknittel': 1502, 'dependence': 332, 'viii': 1482, 'behaviour': 105, 'photocyclisation': 992, 'properties': 1067, 'perkin': 977, 'petek': 984, 'yoshihara': 1515, 'fujiwara': 564, 'lin': 753, 'dihydrophenanthrene': 375, 'suggestive': 1322, 'evidence': 472, 'photophysical': 1001, 'measurements': 804, 'spectroscopic': 1268, 'takeuchi': 1352, 'tahara': 1346, 'nature': 870, 'reactive': 1101, 'berweger': 111, 'van': 1465, 'gunsteren': 606, 'allen': 34, 'complex': 219, 'coordinate': 279, 'modern': 832, 'optics': 927, 'fabiano': 502, 'groenhof': 599, 'thiel': 1376, 'switching': 1334, 'greene': 598, 'farrow': 510, 'subpicosecond': 1309, 'multiphoton': 854, 'ionization': 703, 'collision': 202, 'free': 559, 'baumert': 99, 'frohnmeyer': 562, 'kiefer': 720, 'niklaus': 883, 'strehle': 1295, 'gerber': 583, 'zewail': 1519, 'appl': 56, 'pedersen': 971, 'bañares': 100, 'transitionstate': 1410}\n"
     ]
    }
   ],
   "source": [
    "from sklearn.feature_extraction.text import CountVectorizer\n",
    "vectorizer = CountVectorizer()\n",
    "vectorizer.fit(words)\n",
    "#summarize\n",
    "print(vectorizer.vocabulary_)\n"
   ]
  },
  {
   "cell_type": "code",
   "execution_count": null,
   "metadata": {},
   "outputs": [],
   "source": []
  },
  {
   "cell_type": "code",
   "execution_count": null,
   "metadata": {},
   "outputs": [],
   "source": []
  },
  {
   "cell_type": "code",
   "execution_count": null,
   "metadata": {},
   "outputs": [],
   "source": []
  },
  {
   "cell_type": "markdown",
   "metadata": {},
   "source": [
    " "
   ]
  },
  {
   "cell_type": "code",
   "execution_count": null,
   "metadata": {},
   "outputs": [],
   "source": []
  },
  {
   "cell_type": "code",
   "execution_count": null,
   "metadata": {},
   "outputs": [],
   "source": []
  },
  {
   "cell_type": "code",
   "execution_count": null,
   "metadata": {},
   "outputs": [],
   "source": []
  },
  {
   "cell_type": "code",
   "execution_count": null,
   "metadata": {},
   "outputs": [],
   "source": [
    "\n"
   ]
  },
  {
   "cell_type": "code",
   "execution_count": null,
   "metadata": {},
   "outputs": [],
   "source": []
  },
  {
   "cell_type": "code",
   "execution_count": null,
   "metadata": {},
   "outputs": [],
   "source": []
  },
  {
   "cell_type": "code",
   "execution_count": null,
   "metadata": {},
   "outputs": [],
   "source": []
  }
 ],
 "metadata": {
  "kernelspec": {
   "display_name": "Python 3",
   "language": "python",
   "name": "python3"
  },
  "language_info": {
   "codemirror_mode": {
    "name": "ipython",
    "version": 3
   },
   "file_extension": ".py",
   "mimetype": "text/x-python",
   "name": "python",
   "nbconvert_exporter": "python",
   "pygments_lexer": "ipython3",
   "version": "3.7.3"
  }
 },
 "nbformat": 4,
 "nbformat_minor": 2
}
