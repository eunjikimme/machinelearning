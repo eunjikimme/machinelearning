{
 "cells": [
  {
   "cell_type": "code",
   "execution_count": 1,
   "metadata": {},
   "outputs": [],
   "source": [
    "import scrapy\n",
    "import requests\n",
    "from scrapy.http import TextResponse"
   ]
  },
  {
   "cell_type": "code",
   "execution_count": 2,
   "metadata": {},
   "outputs": [],
   "source": [
    "url = \"https://scholar.google.co.kr/scholar?hl=ko&as_sdt=0,5&q=polymer+molecular+dynamics\"\n",
    "rep = requests.get(url)\n",
    "response = TextResponse(rep.url, body=rep.text,encoding=\"utf-8\")"
   ]
  },
  {
   "cell_type": "code",
   "execution_count": 3,
   "metadata": {},
   "outputs": [
    {
     "name": "stdout",
     "output_type": "stream",
     "text": [
      "<200 https://scholar.google.co.kr/scholar?hl=ko&as_sdt=0,5&q=polymer+molecular+dynamics>\n"
     ]
    }
   ],
   "source": [
    "print(response)\n"
   ]
  },
  {
   "cell_type": "code",
   "execution_count": 4,
   "metadata": {},
   "outputs": [],
   "source": [
    "#Title crawling\n",
    "B=response.xpath('/html/body/div/div/div/div/div/div/div/h3/a/text()').extract()"
   ]
  },
  {
   "cell_type": "code",
   "execution_count": 5,
   "metadata": {},
   "outputs": [
    {
     "name": "stdout",
     "output_type": "stream",
     "text": [
      "[', ', '\\xa0- The Journal of chemical physics, 2005 - aip.scitation.org', 'We show how the ring-', 'method can be adapted to calculate ', 'approximate Kubo-transformed flux-side correlation functions, and hence rate coefficients for ', 'condensed phase reactions. An application of the method to the standard model for a\\xa0…', ' ', ' ', ' ', ' ']\n",
      "<class 'list'>\n"
     ]
    }
   ],
   "source": [
    "A=response.xpath('/html/body/div/div/div/div/div/div/div/div/text()').extract()\n",
    "print(A[:10])\n",
    "print(type(A))"
   ]
  },
  {
   "cell_type": "code",
   "execution_count": 9,
   "metadata": {},
   "outputs": [
    {
     "name": "stdout",
     "output_type": "stream",
     "text": [
      "['Chemical', 'reaction', 'rates', 'from', 'ring', 'Quantum', 'statistics', 'and', 'classical', 'mechanics', ':', 'Real', 'time', 'correlation', 'functions', 'from', 'ring', 'A', 'refined', 'ring', 'theory', 'of', 'chemical', 'reaction', 'rates', 'Quantum', 'diffusion', 'in', 'liquid', 'water', 'from', 'ring', 'Ring-', ':', 'Quantum', 'effects', 'in', 'chemical', 'from', 'classical', 'trajectories', 'in', 'an', 'extended', 'phase', 'space', 'On', 'the', 'short-time', 'limit', 'of', 'ring', 'Quantum', 'diffusion', 'in', 'liquid', '-hydrogen', 'from', 'ring-', 'Ring-', 'rate-theory', 'in', 'the', 'deep-tunneling', 'regime', ':', 'Connection', 'with', 'semiclassical', 'instanton', 'theory', 'Bimolecular', 'reaction', 'rates', 'from', 'ring', 'A', 'simulation', 'study', 'of', 'nanoparticle', 'interactions', 'in', 'a', 'model', '-nanoparticle', 'composite']\n",
      "<class 'list'>\n",
      "['Chemical', 'reaction', 'rates', 'ring', 'Quantum', 'statistics', 'classical', 'mechanics', ':', 'Real', 'time', 'correlation', 'functions', 'ring', 'refined', 'ring', 'theory', 'chemical', 'reaction', 'rates', 'Quantum', 'diffusion', 'liquid', 'water', 'ring', 'Ring-', ':', 'Quantum', 'effects', 'chemical', 'classical', 'trajectories', 'extended', 'phase', 'space', 'short-time', 'limit', 'ring', 'Quantum', 'diffusion', 'liquid', '-hydrogen', 'ring-', 'Ring-', 'rate-theory', 'deep-tunneling', 'regime', ':', 'Connection', 'semiclassical', 'instanton', 'theory', 'Bimolecular', 'reaction', 'rates', 'ring', 'simulation', 'study', 'nanoparticle', 'interactions', 'model', '-nanoparticle', 'composite']\n"
     ]
    }
   ],
   "source": [
    "import nltk\n",
    "from nltk.corpus import stopwords\n",
    "from nltk.tokenize import word_tokenize\n",
    "all_stopwords = stopwords.words('english')\n",
    "all_stopwords.extend(('A','On'))\n",
    "string_li=\" \".join(B)\n",
    "text_tokens = word_tokenize(string_li)\n",
    "print(text_tokens[:100])\n",
    "print(type(text_tokens))\n",
    "text_wo = [word for word in text_tokens if not word in all_stopwords]\n",
    "print(text_wo)\n",
    "\n"
   ]
  },
  {
   "cell_type": "code",
   "execution_count": null,
   "metadata": {},
   "outputs": [],
   "source": []
  },
  {
   "cell_type": "code",
   "execution_count": null,
   "metadata": {},
   "outputs": [],
   "source": []
  }
 ],
 "metadata": {
  "kernelspec": {
   "display_name": "Python 3",
   "language": "python",
   "name": "python3"
  },
  "language_info": {
   "codemirror_mode": {
    "name": "ipython",
    "version": 3
   },
   "file_extension": ".py",
   "mimetype": "text/x-python",
   "name": "python",
   "nbconvert_exporter": "python",
   "pygments_lexer": "ipython3",
   "version": "3.7.3"
  }
 },
 "nbformat": 4,
 "nbformat_minor": 2
}
