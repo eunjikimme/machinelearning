{
 "cells": [
  {
   "cell_type": "markdown",
   "metadata": {},
   "source": [
    "## Extract text from PDF file\n",
    "1. using textract\n",
    "2. using pyPDF2\n"
   ]
  },
  {
   "cell_type": "code",
   "execution_count": 1,
   "metadata": {},
   "outputs": [],
   "source": [
    "path = \"/Users/eunji/Desktop/rename/photochem.pdf\""
   ]
  },
  {
   "cell_type": "markdown",
   "metadata": {},
   "source": [
    "## 1. using textract"
   ]
  },
  {
   "cell_type": "code",
   "execution_count": 2,
   "metadata": {},
   "outputs": [
    {
     "name": "stdout",
     "output_type": "stream",
     "text": [
      "Photochemistry and Photobiology, 2016, 92: 45–51\n",
      "\n",
      "\n",
      "<class 'str'>\n"
     ]
    }
   ],
   "source": [
    "import textract\n",
    "text = textract.process(path,language='eng').decode('utf-8')\n",
    "print(text[:50])\n",
    "print(type(text))"
   ]
  },
  {
   "cell_type": "markdown",
   "metadata": {},
   "source": [
    "## 2. using pyPDF2"
   ]
  },
  {
   "cell_type": "code",
   "execution_count": 3,
   "metadata": {},
   "outputs": [],
   "source": [
    "#import PyPDF2\n",
    "#pdf_file = open(path,'rb')\n",
    "#read_pdf = PyPDF2.PdfFileReader(pdf_file)\n",
    "#number_of_pages = read_pdf.getNumPages()\n",
    "#text = \"\"\n",
    "#for i in range(number_of_pages):\n",
    "#    page = read_pdf.getPage(i)\n",
    "#    text += page.extractText()\n",
    "#print(text[:50])\n",
    "#wish to keep space between text but extractText removes space"
   ]
  },
  {
   "cell_type": "markdown",
   "metadata": {},
   "source": [
    "## Extracting Keywords"
   ]
  },
  {
   "cell_type": "code",
   "execution_count": 4,
   "metadata": {},
   "outputs": [
    {
     "name": "stdout",
     "output_type": "stream",
     "text": [
      "['Photochemistry', 'and', 'Photobiology', 'Invited', 'Review', 'UV', 'induced', 'DNA', 'Damage', 'The', 'Role', 'of', 'Electronic', 'Excited', 'States', 'Dimitra', 'Markovitsi', 'CNRS', 'IRAMIS', 'LIDYL', 'Laboratoire', 'Francis', 'Perrin', 'URA', 'Gif', 'sur', 'Yvette', 'France', 'Received', 'July', 'accepted', 'August', 'DOI', 'php', 'ABSTRACT', 'The', 'knowledge', 'of', 'the', 'fundamental', 'processes', 'induced', 'by', 'the', 'direct', 'absorption', 'of', 'UV', 'radiation', 'by', 'DNA', 'allows', 'extrapolat', 'ing', 'conclusions', 'drawn', 'from', 'in', 'vitro', 'studies', 'to', 'the', 'in', 'vivo', 'DNA', 'photoreactivity', 'In', 'this', 'respect', 'the', 'characterization', 'of', 'the', 'DNA', 'electronic', 'excited', 'states', 'plays', 'key', 'role', 'For', 'long', 'time', 'the', 'mechanisms', 'of', 'DNA', 'lesion', 'formation', 'were', 'dis', 'cussed', 'in', 'terms', 'of', 'generic', 'singlet', 'and', 'triplet', 'excited']\n"
     ]
    }
   ],
   "source": [
    "import re\n",
    "keywords = re.findall(r'[a-zA-Z]\\w+',text)\n",
    "len(keywords)\n",
    "print(keywords[:100])"
   ]
  },
  {
   "cell_type": "code",
   "execution_count": 5,
   "metadata": {},
   "outputs": [],
   "source": [
    "import pandas as pd\n",
    "df = pd.DataFrame(list(keywords),columns=['words'])\n",
    "#Dataframe with keywords to avoid repetition in rows"
   ]
  },
  {
   "cell_type": "markdown",
   "metadata": {},
   "source": [
    "## Data cleaning"
   ]
  },
  {
   "cell_type": "code",
   "execution_count": 6,
   "metadata": {},
   "outputs": [],
   "source": [
    "from nltk.corpus import stopwords\n",
    "def remove_stopwords(text):\n",
    "    words = [w for w in text if w not in stopwords.words('english')]\n",
    "    return words"
   ]
  },
  {
   "cell_type": "code",
   "execution_count": 7,
   "metadata": {},
   "outputs": [
    {
     "name": "stdout",
     "output_type": "stream",
     "text": [
      "['Photochemistry', 'Photobiology', 'Invited', 'Review', 'UV', 'induced', 'DNA', 'Damage', 'The', 'Role', 'Electronic', 'Excited', 'States', 'Dimitra', 'Markovitsi', 'CNRS', 'IRAMIS', 'LIDYL', 'Laboratoire', 'Francis', 'Perrin', 'URA', 'Gif', 'sur', 'Yvette', 'France', 'Received', 'July', 'accepted', 'August', 'DOI', 'php', 'ABSTRACT', 'The', 'knowledge', 'fundamental', 'processes', 'induced', 'direct', 'absorption', 'UV', 'radiation', 'DNA', 'allows', 'extrapolat', 'ing', 'conclusions', 'drawn', 'vitro', 'studies', 'vivo', 'DNA', 'photoreactivity', 'In', 'respect', 'characterization', 'DNA', 'electronic', 'excited', 'states', 'plays', 'key', 'role', 'For', 'long', 'time', 'mechanisms', 'DNA', 'lesion', 'formation', 'dis', 'cussed', 'terms', 'generic', 'singlet', 'triplet', 'excited', 'state', 'reactivity', 'However', 'since', 'beginning', 'st', 'cen', 'tury', 'experimental', 'theoretical', 'studies', 'revealed', 'existence', 'collective', 'excited', 'states', 'excited', 'states', 'delo', 'calized', 'least', 'two', 'bases']\n"
     ]
    }
   ],
   "source": [
    "data=remove_stopwords(keywords)\n",
    "print(data[:100])"
   ]
  },
  {
   "cell_type": "markdown",
   "metadata": {},
   "source": []
  },
  {
   "cell_type": "code",
   "execution_count": null,
   "metadata": {},
   "outputs": [],
   "source": []
  },
  {
   "cell_type": "code",
   "execution_count": null,
   "metadata": {},
   "outputs": [],
   "source": []
  },
  {
   "cell_type": "code",
   "execution_count": null,
   "metadata": {},
   "outputs": [],
   "source": []
  },
  {
   "cell_type": "code",
   "execution_count": null,
   "metadata": {},
   "outputs": [],
   "source": []
  },
  {
   "cell_type": "code",
   "execution_count": null,
   "metadata": {},
   "outputs": [],
   "source": []
  },
  {
   "cell_type": "code",
   "execution_count": null,
   "metadata": {},
   "outputs": [],
   "source": []
  },
  {
   "cell_type": "code",
   "execution_count": null,
   "metadata": {},
   "outputs": [],
   "source": []
  },
  {
   "cell_type": "code",
   "execution_count": null,
   "metadata": {},
   "outputs": [],
   "source": []
  }
 ],
 "metadata": {
  "kernelspec": {
   "display_name": "Python 3",
   "language": "python",
   "name": "python3"
  },
  "language_info": {
   "codemirror_mode": {
    "name": "ipython",
    "version": 3
   },
   "file_extension": ".py",
   "mimetype": "text/x-python",
   "name": "python",
   "nbconvert_exporter": "python",
   "pygments_lexer": "ipython3",
   "version": "3.7.3"
  }
 },
 "nbformat": 4,
 "nbformat_minor": 2
}
